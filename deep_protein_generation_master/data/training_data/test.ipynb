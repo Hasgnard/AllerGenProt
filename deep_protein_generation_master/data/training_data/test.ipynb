{
 "cells": [
  {
   "cell_type": "code",
   "execution_count": null,
   "metadata": {},
   "outputs": [
    {
     "ename": "",
     "evalue": "",
     "output_type": "error",
     "traceback": [
      "\u001b[1;31mRunning cells with 'dp_old' requires the ipykernel package.\n",
      "\u001b[1;31mRun the following command to install 'ipykernel' into the Python environment. \n",
      "\u001b[1;31mCommand: 'conda install -n dp_old ipykernel --update-deps --force-reinstall'"
     ]
    }
   ],
   "source": [
    "header = None\n",
    "length = 0  \n",
    "with open('/home/rfernandes/projeto/deep_protein_generation_master/data/training_data/ll_train.fa') as fasta:\n",
    "    for line in fasta:\n",
    "        # Trim newline\n",
    "        line = line.rstrip()\n",
    "        if line.startswith('>'):\n",
    "            # If we captured one before, print it now\n",
    "            if header is not None:\n",
    "                print(header, length)\n",
    "                length = 0\n",
    "            header = line[1:]\n",
    "        else:\n",
    "            length += len(line)\n",
    "# Don't forget the last one\n",
    "if length:\n",
    "    print(header, length)\n",
    "        "
   ]
  }
 ],
 "metadata": {
  "kernelspec": {
   "display_name": "dp_old",
   "language": "python",
   "name": "python3"
  },
  "language_info": {
   "name": "python",
   "version": "3.6.13"
  },
  "orig_nbformat": 4
 },
 "nbformat": 4,
 "nbformat_minor": 2
}
